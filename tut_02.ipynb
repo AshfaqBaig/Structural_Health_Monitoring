{
 "cells": [
  {
   "cell_type": "code",
   "execution_count": 5,
   "metadata": {},
   "outputs": [
    {
     "name": "stdout",
     "output_type": "stream",
     "text": [
      "given number is  4\n"
     ]
    }
   ],
   "source": [
    " a = [2,2,2,3,1,1,1,1,1,4,4]\n",
    " \n",
    "def count_num(count_nu, a):\n",
    "    b = set(a)\n",
    "    for i in b:\n",
    "       if a.count(i)==count_nu:\n",
    "           print(\"given number is \", i)\n",
    "           break\n",
    "count_num(2, a)       \n",
    "    "
   ]
  },
  {
   "cell_type": "code",
   "execution_count": 16,
   "metadata": {},
   "outputs": [
    {
     "name": "stdout",
     "output_type": "stream",
     "text": [
      "<generator object run_length.encode.<locals>.<genexpr> at 0x0000014A4A97C1B0>\n",
      "e is  ('a', 3)\n",
      "e is  ('b', 3)\n",
      "e is  ('c', 2)\n",
      "e is  ('a', 2)\n",
      "e is  ('b', 2)\n"
     ]
    }
   ],
   "source": [
    "#! pip install more-itertools\n",
    "from more_itertools import run_length\n",
    "\n",
    "\n",
    "s = \"aaabbbccaabb\"\n",
    "exp_output= \"3a3b2c2a2b\"\n",
    "result = run_length.encode(s)\n",
    "print(result)\n",
    "\n",
    "for el in result:\n",
    "   e =  [str(el[1]) + str(el[0])]\n",
    "   print(\"e is \", str(el))\n",
    "    \n",
    "# output = \"\".join([str(el[1]) + str(el[0]) for el in result])\n",
    "\n",
    "# assert output == exp_output\n",
    "# output"
   ]
  },
  {
   "cell_type": "code",
   "execution_count": 20,
   "metadata": {},
   "outputs": [
    {
     "name": "stdout",
     "output_type": "stream",
     "text": [
      "[('a', 2), ('b', 1), ('c', 4), ('a', 3)]\n",
      "result = 2a1b4c3a\n"
     ]
    }
   ],
   "source": [
    "from itertools import groupby\n",
    "s = 'aabccccaaa'\n",
    "grouped_d = [(k, len(list(g))) for k, g in groupby(s)]\n",
    "\n",
    "print(grouped_d)\n",
    "result = ''\n",
    "for key, count in grouped_d:\n",
    "    result +=str(count)+ key \n",
    "\n",
    "print(f'result = {result}')"
   ]
  },
  {
   "cell_type": "markdown",
   "metadata": {},
   "source": [
    "from more_itertools import run_length\n",
    "\n",
    "\n",
    "\n",
    "s = \"aaabbbccaabb\"\n",
    "\n",
    "exp_output= \"3a3b2c2a2b\"\n",
    "\n",
    "\n",
    "\n",
    "result = run_length.encode(s)\n",
    "\n",
    "output = \"\".join([str(el[1]) + str(el[0]) for el in result])\n",
    "\n",
    "\n",
    "\n",
    "assert output == exp_output"
   ]
  },
  {
   "cell_type": "code",
   "execution_count": null,
   "metadata": {},
   "outputs": [],
   "source": [
    "\n",
    "Consider a list of integers, right rotate list N(given input) times \n",
    "and print array element at index K(given input), Note: optimized solution is \n",
    "preferredEx: \n",
    "input = [1, 2, 3, 4] \n",
    "when n=1, \n",
    "list = [4,1,2,3] \n",
    "when n=2, \n",
    "list=[3,4,1,2]\n",
    "when n=3, \n",
    "list=[2,3,4,1]\n",
    "\n"
   ]
  },
  {
   "cell_type": "code",
   "execution_count": 36,
   "metadata": {},
   "outputs": [
    {
     "data": {
      "text/plain": [
       "[4, 1, 2, 3, 4]"
      ]
     },
     "execution_count": 36,
     "metadata": {},
     "output_type": "execute_result"
    }
   ],
   "source": [
    "input = [1, 2, 3, 4] \n",
    "n=5\n",
    "out =[]\n",
    "for i in range(len(input)-n, len(input)):\n",
    "    out.append(input[i])\n",
    "    \n",
    "for j in range(0, len(input)-n):\n",
    "    out.append(input[j])\n",
    "    \n",
    "out"
   ]
  },
  {
   "cell_type": "code",
   "execution_count": 37,
   "metadata": {},
   "outputs": [
    {
     "data": {
      "text/plain": [
       "[4, 1, 2, 3]"
      ]
     },
     "execution_count": 37,
     "metadata": {},
     "output_type": "execute_result"
    }
   ],
   "source": [
    "b=(input[len(input)-n:len(input)]+input[0:len(input)-n])\n",
    "b"
   ]
  },
  {
   "cell_type": "code",
   "execution_count": 1,
   "metadata": {},
   "outputs": [],
   "source": [
    "import numpy as np\n",
    "def diagnal_array(arr, n):\n",
    "      \n",
    "     for i in range(n):\n",
    "          for j in range(i):\n",
    "             if (i==j):\n",
    "                 print(arr[i][j], end=\", \")\n",
    "a = [[1,2,3,4],[5,6,7,8],[9,10,11,12],[13,14,15,16]]\n",
    "\n",
    "diagnal_array(a, n=4)"
   ]
  }
 ],
 "metadata": {
  "interpreter": {
   "hash": "1f9be8d958d64def7000b4e40fdf61e21e8c8af46128105826ab0b0dcf390d7d"
  },
  "kernelspec": {
   "display_name": "Python 3.7.0 ('Edge_Detection')",
   "language": "python",
   "name": "python3"
  },
  "language_info": {
   "codemirror_mode": {
    "name": "ipython",
    "version": 3
   },
   "file_extension": ".py",
   "mimetype": "text/x-python",
   "name": "python",
   "nbconvert_exporter": "python",
   "pygments_lexer": "ipython3",
   "version": "3.7.0"
  },
  "orig_nbformat": 4
 },
 "nbformat": 4,
 "nbformat_minor": 2
}
