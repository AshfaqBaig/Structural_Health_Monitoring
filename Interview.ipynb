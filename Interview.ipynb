{
 "cells": [
  {
   "cell_type": "code",
   "execution_count": 20,
   "metadata": {},
   "outputs": [
    {
     "name": "stdout",
     "output_type": "stream",
     "text": [
      "[0.89853254 0.16746484 0.32126083 0.34857224 0.13346021 0.5650069\n",
      " 0.58895067 0.33066564 0.73761359 0.38914356 0.53296841 0.27606869\n",
      " 0.32592394 0.94585303 0.0032882  0.44140042 0.6159756  0.55210704\n",
      " 0.75747618 0.84401486 0.5613527  0.96450358 0.24333407 0.43457498\n",
      " 0.86824798 0.33081148 0.52747185 0.85446813 0.65145916 0.75207294\n",
      " 0.47927747 0.85026663 0.26447832 0.63976288 0.96479356 0.12729227\n",
      " 0.77065222 0.79882096 0.99565392 0.16318754 0.42019765 0.077112\n",
      " 0.97731933 0.15603393 0.36438262 0.66384679 0.90510651 0.70135986\n",
      " 0.32888058 0.84454804 0.4086706  0.30103257 0.49234414 0.44260864\n",
      " 0.41503848 0.34831154 0.09502828 0.32784532 0.99852886 0.29863502\n",
      " 0.6471082  0.60478858 0.04976162 0.72376411 0.35829513 0.69210959\n",
      " 0.41502557 0.62955452 0.29081623 0.56872931 0.29288051 0.80269048\n",
      " 0.42049071 0.01887078 0.48936422 0.49893328 0.528873   0.04057738\n",
      " 0.31006055 0.06227493 0.52488522 0.91890139 0.59069757 0.08542143\n",
      " 0.94541059 0.05286879 0.04250175 0.19628615 0.47162951 0.36781388\n",
      " 0.95730051 0.58213626 0.99441797 0.59730522 0.78735414 0.60172786\n",
      " 0.61812366 0.21682854 0.7521469  0.73126426]\n"
     ]
    },
    {
     "data": {
      "text/html": [
       "<div>\n",
       "<style scoped>\n",
       "    .dataframe tbody tr th:only-of-type {\n",
       "        vertical-align: middle;\n",
       "    }\n",
       "\n",
       "    .dataframe tbody tr th {\n",
       "        vertical-align: top;\n",
       "    }\n",
       "\n",
       "    .dataframe thead th {\n",
       "        text-align: right;\n",
       "    }\n",
       "</style>\n",
       "<table border=\"1\" class=\"dataframe\">\n",
       "  <thead>\n",
       "    <tr style=\"text-align: right;\">\n",
       "      <th></th>\n",
       "      <th>Name</th>\n",
       "      <th>Salary</th>\n",
       "      <th>status</th>\n",
       "    </tr>\n",
       "  </thead>\n",
       "  <tbody>\n",
       "    <tr>\n",
       "      <th>0</th>\n",
       "      <td>ashu</td>\n",
       "      <td>100</td>\n",
       "      <td>0</td>\n",
       "    </tr>\n",
       "    <tr>\n",
       "      <th>1</th>\n",
       "      <td>raja</td>\n",
       "      <td>200000</td>\n",
       "      <td>0</td>\n",
       "    </tr>\n",
       "    <tr>\n",
       "      <th>2</th>\n",
       "      <td>ajas</td>\n",
       "      <td>300</td>\n",
       "      <td>0</td>\n",
       "    </tr>\n",
       "  </tbody>\n",
       "</table>\n",
       "</div>"
      ],
      "text/plain": [
       "   Name  Salary  status\n",
       "0  ashu     100       0\n",
       "1  raja  200000       0\n",
       "2  ajas     300       0"
      ]
     },
     "execution_count": 20,
     "metadata": {},
     "output_type": "execute_result"
    }
   ],
   "source": [
    "#!pip install pandas \n",
    "import pandas as pd\n",
    "import numpy as np\n",
    "rand_values= np.random.rand(100)\n",
    "print(rand_values)\n",
    "this_dict={\n",
    "    \"ashu\": 100,\n",
    "    \"raja\": 200000,\n",
    "    \"ajas\": 300\n",
    "}\n",
    "df = pd.DataFrame(this_dict.items())\n",
    "df.columns=[\"Name\",\"Salary\"]\n",
    "df[\"status\"] = 0 \n",
    "df"
   ]
  },
  {
   "cell_type": "code",
   "execution_count": 21,
   "metadata": {},
   "outputs": [
    {
     "data": {
      "text/plain": [
       "0.0032882044078463846"
      ]
     },
     "execution_count": 21,
     "metadata": {},
     "output_type": "execute_result"
    }
   ],
   "source": [
    "min_value = rand_values[0]\n",
    "for i in range(len(rand_values)):\n",
    "    if rand_values[i]< min_value:\n",
    "        min_value = rand_values[i]\n",
    "min_value     "
   ]
  },
  {
   "cell_type": "code",
   "execution_count": 16,
   "metadata": {},
   "outputs": [
    {
     "data": {
      "text/html": [
       "<div>\n",
       "<style scoped>\n",
       "    .dataframe tbody tr th:only-of-type {\n",
       "        vertical-align: middle;\n",
       "    }\n",
       "\n",
       "    .dataframe tbody tr th {\n",
       "        vertical-align: top;\n",
       "    }\n",
       "\n",
       "    .dataframe thead th {\n",
       "        text-align: right;\n",
       "    }\n",
       "</style>\n",
       "<table border=\"1\" class=\"dataframe\">\n",
       "  <thead>\n",
       "    <tr style=\"text-align: right;\">\n",
       "      <th></th>\n",
       "      <th>Name</th>\n",
       "      <th>Salary</th>\n",
       "      <th>status</th>\n",
       "    </tr>\n",
       "  </thead>\n",
       "  <tbody>\n",
       "    <tr>\n",
       "      <th>0</th>\n",
       "      <td>ashu</td>\n",
       "      <td>100</td>\n",
       "      <td>low</td>\n",
       "    </tr>\n",
       "    <tr>\n",
       "      <th>1</th>\n",
       "      <td>raja</td>\n",
       "      <td>200</td>\n",
       "      <td>medium</td>\n",
       "    </tr>\n",
       "    <tr>\n",
       "      <th>2</th>\n",
       "      <td>ajas</td>\n",
       "      <td>300</td>\n",
       "      <td>high</td>\n",
       "    </tr>\n",
       "  </tbody>\n",
       "</table>\n",
       "</div>"
      ],
      "text/plain": [
       "   Name  Salary  status\n",
       "0  ashu     100     low\n",
       "1  raja     200  medium\n",
       "2  ajas     300    high"
      ]
     },
     "execution_count": 16,
     "metadata": {},
     "output_type": "execute_result"
    }
   ],
   "source": [
    " df.loc[df[\"Salary\"]< 200,\"status\"]= \"low\"\n",
    " df.loc[df[\"Salary\"]== 200,\"status\"]= \"medium\"\n",
    " df.loc[df[\"Salary\"]> 200,\"status\"]= \"high\"\n",
    "df"
   ]
  },
  {
   "cell_type": "code",
   "execution_count": 22,
   "metadata": {},
   "outputs": [
    {
     "data": {
      "text/plain": [
       "21"
      ]
     },
     "execution_count": 22,
     "metadata": {},
     "output_type": "execute_result"
    }
   ],
   "source": [
    "import statistics\n",
    "median_value=[10, 20, 30, 40, 50, 15, 21]\n",
    "statistics.median(median_value)\n",
    "# low, low, high, high, low "
   ]
  },
  {
   "cell_type": "code",
   "execution_count": 23,
   "metadata": {},
   "outputs": [
    {
     "data": {
      "text/plain": [
       "4"
      ]
     },
     "execution_count": 23,
     "metadata": {},
     "output_type": "execute_result"
    }
   ],
   "source": [
    "items = [1,2,3,4,5,6,7]\n",
    "statistics.median(items)"
   ]
  },
  {
   "cell_type": "code",
   "execution_count": 9,
   "metadata": {},
   "outputs": [
    {
     "ename": "TypeError",
     "evalue": "int() argument must be a string, a bytes-like object or a number, not 'list'",
     "output_type": "error",
     "traceback": [
      "\u001b[1;31m---------------------------------------------------------------------------\u001b[0m",
      "\u001b[1;31mTypeError\u001b[0m                                 Traceback (most recent call last)",
      "\u001b[1;32m<ipython-input-9-401126d90ec5>\u001b[0m in \u001b[0;36m<module>\u001b[1;34m\u001b[0m\n\u001b[0;32m      2\u001b[0m \u001b[0minput_values\u001b[0m \u001b[1;33m=\u001b[0m \u001b[0minput\u001b[0m\u001b[1;33m(\u001b[0m\u001b[1;34m\"Enter the list of values\"\u001b[0m\u001b[1;33m)\u001b[0m\u001b[1;33m\u001b[0m\u001b[0m\n\u001b[0;32m      3\u001b[0m \u001b[0minput_values\u001b[0m \u001b[1;33m=\u001b[0m \u001b[0minput_values\u001b[0m\u001b[1;33m.\u001b[0m\u001b[0msplit\u001b[0m\u001b[1;33m(\u001b[0m\u001b[1;34m\",\"\u001b[0m\u001b[1;33m)\u001b[0m\u001b[1;33m\u001b[0m\u001b[0m\n\u001b[1;32m----> 4\u001b[1;33m \u001b[0mprint\u001b[0m\u001b[1;33m(\u001b[0m\u001b[0mint\u001b[0m\u001b[1;33m(\u001b[0m\u001b[0minput_values\u001b[0m\u001b[1;33m)\u001b[0m\u001b[1;33m)\u001b[0m\u001b[1;33m\u001b[0m\u001b[0m\n\u001b[0m\u001b[0;32m      5\u001b[0m \u001b[1;31m#print([input_values])\u001b[0m\u001b[1;33m\u001b[0m\u001b[1;33m\u001b[0m\u001b[0m\n\u001b[0;32m      6\u001b[0m \u001b[1;31m# count=0\u001b[0m\u001b[1;33m\u001b[0m\u001b[1;33m\u001b[0m\u001b[0m\n",
      "\u001b[1;31mTypeError\u001b[0m: int() argument must be a string, a bytes-like object or a number, not 'list'"
     ]
    }
   ],
   "source": [
    "#input =[1,1,0,0,0,0,0,0,0,0]\n",
    "input_values = input(\"Enter the list of values\")\n",
    "input_values = input_values.split(\",\")\n",
    "print(int(input_values))\n",
    "#print([input_values])\n",
    "# count=0\n",
    "# for i in input:\n",
    "#     if i == 1:\n",
    "#         count=count+1\n",
    "\n",
    "# if(count%2)==0:\n",
    "#     print(\"0\")\n",
    "# else:\n",
    "#     print(\"1\")            \n",
    "        "
   ]
  },
  {
   "cell_type": "code",
   "execution_count": null,
   "metadata": {},
   "outputs": [],
   "source": []
  }
 ],
 "metadata": {
  "interpreter": {
   "hash": "1f9be8d958d64def7000b4e40fdf61e21e8c8af46128105826ab0b0dcf390d7d"
  },
  "kernelspec": {
   "display_name": "Python 3.7.0 ('Edge_Detection')",
   "language": "python",
   "name": "python3"
  },
  "language_info": {
   "codemirror_mode": {
    "name": "ipython",
    "version": 3
   },
   "file_extension": ".py",
   "mimetype": "text/x-python",
   "name": "python",
   "nbconvert_exporter": "python",
   "pygments_lexer": "ipython3",
   "version": "3.7.0"
  },
  "orig_nbformat": 4
 },
 "nbformat": 4,
 "nbformat_minor": 2
}
