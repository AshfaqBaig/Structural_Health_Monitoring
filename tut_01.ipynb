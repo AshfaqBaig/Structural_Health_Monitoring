{
 "cells": [
  {
   "cell_type": "code",
   "execution_count": 1,
   "metadata": {},
   "outputs": [
    {
     "name": "stdout",
     "output_type": "stream",
     "text": [
      "Note: you may need to restart the kernel to use updated packages.\n"
     ]
    },
    {
     "name": "stderr",
     "output_type": "stream",
     "text": [
      "'C:\\Program' is not recognized as an internal or external command,\n",
      "operable program or batch file.\n"
     ]
    }
   ],
   "source": [
    "pip install -U pytest"
   ]
  },
  {
   "cell_type": "code",
   "execution_count": null,
   "metadata": {},
   "outputs": [],
   "source": []
  },
  {
   "cell_type": "code",
   "execution_count": 2,
   "metadata": {},
   "outputs": [],
   "source": [
    "# content of test_sample.py\n",
    "def func(x):\n",
    "    return x + 1\n",
    "\n",
    "\n",
    "def test_answer():\n",
    "    assert func(3) == 5"
   ]
  },
  {
   "cell_type": "code",
   "execution_count": 4,
   "metadata": {},
   "outputs": [
    {
     "name": "stdout",
     "output_type": "stream",
     "text": [
      "============================= test session starts =============================\n",
      "platform win32 -- Python 3.8.3, pytest-6.1.1, py-1.9.0, pluggy-0.13.1\n",
      "rootdir: c:\\KT\\test.py\\pytest_test_tut\n",
      "plugins: cov-2.10.1\n",
      "collected 0 items\n",
      "\n",
      "============================== warnings summary ===============================\n",
      "..\\..\\..\\Program Files\\Anaconda\\lib\\site-packages\\pyreadline\\py3k_compat.py:8\n",
      "  C:\\Program Files\\Anaconda\\lib\\site-packages\\pyreadline\\py3k_compat.py:8: DeprecationWarning: Using or importing the ABCs from 'collections' instead of from 'collections.abc' is deprecated since Python 3.3, and in 3.9 it will stop working\n",
      "    return isinstance(x, collections.Callable)\n",
      "\n",
      "-- Docs: https://docs.pytest.org/en/stable/warnings.html\n",
      "============================= 1 warning in 0.06s ==============================\n"
     ]
    },
    {
     "name": "stderr",
     "output_type": "stream",
     "text": [
      "ERROR: file or directory not found: test_answer\n",
      "\n"
     ]
    }
   ],
   "source": [
    "!pytest test_answer"
   ]
  },
  {
   "cell_type": "code",
   "execution_count": 1,
   "metadata": {},
   "outputs": [
    {
     "data": {
      "text/plain": [
       "'ed_aal-h10-b9702u1-cam001-20220327-06091546.jpg'"
      ]
     },
     "execution_count": 1,
     "metadata": {},
     "output_type": "execute_result"
    }
   ],
   "source": [
    "string_ig=\"ig_aal-h10-b9702u1-cam001-20220327-06091546.jpg\"\n",
    "string_ig.replace(\"ig\", \"ed\")"
   ]
  },
  {
   "cell_type": "code",
   "execution_count": 2,
   "metadata": {},
   "outputs": [
    {
     "data": {
      "text/plain": [
       "'ig_aal-h10-b9702u1-cam001-20220327-06091546'"
      ]
     },
     "execution_count": 2,
     "metadata": {},
     "output_type": "execute_result"
    }
   ],
   "source": [
    "filename=\"ig_aal-h10-b9702u1-cam001-20220327-06091546.jpg\"\n",
    "filename.split('.')[0]"
   ]
  },
  {
   "cell_type": "code",
   "execution_count": null,
   "metadata": {},
   "outputs": [],
   "source": [
    "\"(){[]}()\"\n",
    "\"(){}[]\"\n",
    "\"({]})\""
   ]
  },
  {
   "cell_type": "code",
   "execution_count": 6,
   "metadata": {},
   "outputs": [
    {
     "name": "stdout",
     "output_type": "stream",
     "text": [
      "{'(': 1, ')': 1, '[': 0, ']': 1, '{': 1, '}': 1}\n"
     ]
    }
   ],
   "source": [
    "string_value = \"(){[]}()\"\n",
    "string_value = \"({]})\"\n",
    "\n",
    "def cal_brackets(str_value):\n",
    "    dic_bracket ={\n",
    "        \"(\" : 0,\n",
    "         \")\": 0,\n",
    "         \"[\": 0,\n",
    "         \"]\": 0,\n",
    "        \"{\" : 0,\n",
    "        \"}\":  0\n",
    "    }\n",
    "    count_round = 0\n",
    "    count_square = 0\n",
    "    count_curl = 0\n",
    "    for k,v in dic_bracket.items():\n",
    "        if k in str_value:\n",
    "            dic_bracket[k]+=1\n",
    "    print(dic_bracket)        \n",
    "    \n",
    "cal_brackets(string_value) "
   ]
  },
  {
   "cell_type": "code",
   "execution_count": 7,
   "metadata": {},
   "outputs": [
    {
     "name": "stdout",
     "output_type": "stream",
     "text": [
      "[1, 7, 8, 10, 12, 4, 0, 0, 0, 0]\n"
     ]
    }
   ],
   "source": [
    "Array1= [1,7,0,0,8,0,10,12,0,4]\n",
    "for i in sorted(Array1):\n",
    "    if i ==0:\n",
    "        Array1.append(i)\n",
    "        Array1.remove(i)\n",
    "print(Array1)"
   ]
  },
  {
   "cell_type": "code",
   "execution_count": 10,
   "metadata": {},
   "outputs": [
    {
     "data": {
      "text/plain": [
       "array([8, 7, 6, 8, 3, 3, 2, 3, 8, 2, 3, 1, 2, 2, 4, 1, 8, 8, 4, 3, 2, 1,\n",
       "       3, 4, 4, 5, 7, 5, 4, 6, 4, 6, 4, 1, 5, 5, 8, 8, 5, 3, 1, 1, 4, 7,\n",
       "       1, 1, 4, 3, 3, 3, 2, 3, 3, 3, 8, 4, 2, 7, 5, 4, 8, 7, 4, 8, 7, 4,\n",
       "       6, 5, 6, 1, 1, 1, 3, 2, 1, 1, 1, 2, 1, 2, 8, 8, 1, 6, 5, 2, 1, 6,\n",
       "       7, 8, 3, 1, 6, 2, 6, 6, 2, 7, 2, 3])"
      ]
     },
     "execution_count": 10,
     "metadata": {},
     "output_type": "execute_result"
    }
   ],
   "source": [
    "import numpy as np\n",
    "\n",
    "rand_arr = np.random.randint(1,9, 100)\n",
    "\n",
    "rand_arr"
   ]
  },
  {
   "cell_type": "code",
   "execution_count": 13,
   "metadata": {},
   "outputs": [
    {
     "data": {
      "text/plain": [
       "16"
      ]
     },
     "execution_count": 13,
     "metadata": {},
     "output_type": "execute_result"
    }
   ],
   "source": [
    "np.count_nonzero(rand_arr == 3)"
   ]
  },
  {
   "cell_type": "code",
   "execution_count": 14,
   "metadata": {},
   "outputs": [
    {
     "name": "stdout",
     "output_type": "stream",
     "text": [
      "[[ 1 18]\n",
      " [ 2 14]\n",
      " [ 3 16]\n",
      " [ 4 13]\n",
      " [ 5  8]\n",
      " [ 6 10]\n",
      " [ 7  8]\n",
      " [ 8 13]]\n"
     ]
    }
   ],
   "source": [
    "unique, counts = np.unique(rand_arr, return_counts=True)\n",
    "\n",
    "print(np.asarray((unique, counts)).T)"
   ]
  },
  {
   "cell_type": "code",
   "execution_count": 16,
   "metadata": {},
   "outputs": [
    {
     "data": {
      "text/plain": [
       "array([-1,  7, -1, -1,  3,  3, -1,  3, -1, -1,  3,  1, -1, -1, -1,  1, -1,\n",
       "       -1, -1,  3, -1,  1,  3, -1, -1,  5,  7,  5, -1, -1, -1, -1, -1,  1,\n",
       "        5,  5, -1, -1,  5,  3,  1,  1, -1,  7,  1,  1, -1,  3,  3,  3, -1,\n",
       "        3,  3,  3, -1, -1, -1,  7,  5, -1, -1,  7, -1, -1,  7, -1, -1,  5,\n",
       "       -1,  1,  1,  1,  3, -1,  1,  1,  1, -1,  1, -1, -1, -1,  1, -1,  5,\n",
       "       -1,  1, -1,  7, -1,  3,  1, -1, -1, -1, -1, -1,  7, -1,  3])"
      ]
     },
     "execution_count": 16,
     "metadata": {},
     "output_type": "execute_result"
    }
   ],
   "source": [
    "even_num = (rand_arr % 2 !=1)\n",
    "rand_arr[even_num] = -1\n",
    "rand_arr"
   ]
  },
  {
   "cell_type": "code",
   "execution_count": 24,
   "metadata": {},
   "outputs": [
    {
     "name": "stdout",
     "output_type": "stream",
     "text": [
      "6\n"
     ]
    }
   ],
   "source": [
    "import numpy as np\n",
    "a = [10,20,30,40,50,60,70,80,90]\n",
    "b = [23, 39, 51 , 71]\n",
    "\n",
    "def distance_cal(pf, vari):\n",
    "     a = np.array(pf)\n",
    "     b = np.array(vari)\n",
    "     sum = 0\n",
    "     for i in range(b.shape[0]):\n",
    "        valu = np.abs(np.subtract(a,b[i]))\n",
    "        sum = sum + valu.min()\n",
    "     print(sum)\n",
    "\n",
    "distance_cal(a, b)\n"
   ]
  },
  {
   "cell_type": "code",
   "execution_count": 13,
   "metadata": {},
   "outputs": [
    {
     "data": {
      "text/html": [
       "<div>\n",
       "<style scoped>\n",
       "    .dataframe tbody tr th:only-of-type {\n",
       "        vertical-align: middle;\n",
       "    }\n",
       "\n",
       "    .dataframe tbody tr th {\n",
       "        vertical-align: top;\n",
       "    }\n",
       "\n",
       "    .dataframe thead th {\n",
       "        text-align: right;\n",
       "    }\n",
       "</style>\n",
       "<table border=\"1\" class=\"dataframe\">\n",
       "  <thead>\n",
       "    <tr style=\"text-align: right;\">\n",
       "      <th></th>\n",
       "      <th>A</th>\n",
       "      <th>B</th>\n",
       "    </tr>\n",
       "  </thead>\n",
       "  <tbody>\n",
       "    <tr>\n",
       "      <th>0</th>\n",
       "      <td>0.0</td>\n",
       "      <td>5.0</td>\n",
       "    </tr>\n",
       "    <tr>\n",
       "      <th>1</th>\n",
       "      <td>1.0</td>\n",
       "      <td>6.0</td>\n",
       "    </tr>\n",
       "    <tr>\n",
       "      <th>2</th>\n",
       "      <td>2.0</td>\n",
       "      <td>0.0</td>\n",
       "    </tr>\n",
       "    <tr>\n",
       "      <th>3</th>\n",
       "      <td>3.0</td>\n",
       "      <td>8.0</td>\n",
       "    </tr>\n",
       "  </tbody>\n",
       "</table>\n",
       "</div>"
      ],
      "text/plain": [
       "     A    B\n",
       "0  0.0  5.0\n",
       "1  1.0  6.0\n",
       "2  2.0  0.0\n",
       "3  3.0  8.0"
      ]
     },
     "execution_count": 13,
     "metadata": {},
     "output_type": "execute_result"
    }
   ],
   "source": [
    "import pandas as pd\n",
    "\n",
    "dis ={\"A\":[ np.nan, 1, 2, 3],\n",
    "      \"B\" :[5,6,np.nan,8],\n",
    "      }\n",
    "\n",
    "df = pd.DataFrame(dis)\n",
    "df.replace(np.nan, 0)"
   ]
  },
  {
   "cell_type": "code",
   "execution_count": 33,
   "metadata": {},
   "outputs": [
    {
     "name": "stdout",
     "output_type": "stream",
     "text": [
      "2\n"
     ]
    }
   ],
   "source": [
    "def cal_min_turns(total_num_pages, target_page):\n",
    "    \n",
    "    if(total_num_pages % 2==0):\n",
    "        total_num_pages = total_num_pages+1\n",
    "        \n",
    "    front_turn =  (target_page +1) /2\n",
    "    bact_turn =  (total_num_pages- target_page + 1) /2\n",
    "    \n",
    "    return min(front_turn,bact_turn )\n",
    "print(int(cal_min_turns(99, 95)))\n",
    "    "
   ]
  },
  {
   "cell_type": "code",
   "execution_count": 34,
   "metadata": {},
   "outputs": [
    {
     "name": "stdout",
     "output_type": "stream",
     "text": [
      "a [1, 2]\n",
      "b [3, 4]\n"
     ]
    }
   ],
   "source": [
    "dic_values = {\n",
    "    \"a\":[1,2],\n",
    "    \"b\":[3,4],\n",
    "}\n",
    "for key, value in dic_values.items():\n",
    "    print(key, value)"
   ]
  },
  {
   "cell_type": "code",
   "execution_count": 35,
   "metadata": {},
   "outputs": [],
   "source": [
    "a =[1,3,4,6,1,2,1]"
   ]
  },
  {
   "cell_type": "code",
   "execution_count": 36,
   "metadata": {},
   "outputs": [
    {
     "data": {
      "text/plain": [
       "[1]"
      ]
     },
     "execution_count": 36,
     "metadata": {},
     "output_type": "execute_result"
    }
   ],
   "source": [
    "dub=[]\n",
    "for value in a:\n",
    "    num = a.count(value)\n",
    "    if num > 1:\n",
    "         if dub.count(value) == 0:\n",
    "             dub.append(value)\n",
    "dub           "
   ]
  },
  {
   "cell_type": "code",
   "execution_count": 41,
   "metadata": {},
   "outputs": [
    {
     "data": {
      "text/plain": [
       "[9, 7, 5, 3]"
      ]
     },
     "execution_count": 41,
     "metadata": {},
     "output_type": "execute_result"
    }
   ],
   "source": [
    "b =[1,3,5,7]\n",
    "Target =10 \n",
    "# sum of output list should be close to 10\n",
    "\n",
    "c=[]\n",
    "for value in b:\n",
    "    \n",
    "    \n",
    "    c.append(abs(Target-value))\n",
    "    \n",
    "c\n",
    "    "
   ]
  },
  {
   "cell_type": "code",
   "execution_count": 44,
   "metadata": {},
   "outputs": [
    {
     "name": "stdout",
     "output_type": "stream",
     "text": [
      "True\n",
      "False\n",
      "False\n"
     ]
    }
   ],
   "source": [
    "d = [\"ash\", 1, 2]\n",
    "\n",
    "for i in d:\n",
    "    if isinstance(i , str) == true\n",
    "    #print(i, type(i))"
   ]
  },
  {
   "cell_type": "code",
   "execution_count": 46,
   "metadata": {},
   "outputs": [
    {
     "data": {
      "text/plain": [
       "5"
      ]
     },
     "execution_count": 46,
     "metadata": {},
     "output_type": "execute_result"
    }
   ],
   "source": [
    "a= [1,2,3,5,4]\n",
    "\n",
    "len(a)"
   ]
  },
  {
   "cell_type": "code",
   "execution_count": 50,
   "metadata": {},
   "outputs": [
    {
     "name": "stdout",
     "output_type": "stream",
     "text": [
      "[1, 3, 4]\n"
     ]
    }
   ],
   "source": [
    "def remove_mid(arr):\n",
    "    mid_point = int(len(arr)/2)\n",
    "    #print(arr[ :mid_point-1])\n",
    "    arr = arr[ :mid_point-1] + arr[mid_point:]\n",
    "    print(arr)\n",
    "remove_mid([1,2,3,4])"
   ]
  },
  {
   "cell_type": "code",
   "execution_count": null,
   "metadata": {},
   "outputs": [],
   "source": [
    "A = [1, 3, 5,6, 10, 40, 0, 44, 41, 2, 4, 50, 59, 7, 47, 60, 42, 53, 100, 99, 70]\n",
    "\n",
    "given_num = 50\n",
    "\n",
    "#find 5 nearest values of 50 from the list\n",
    "\n",
    "fun(list, given_num , k = 5)\n",
    "\n",
    "#result:\n",
    "\n",
    "#50, 53, 47,  44, 42"
   ]
  },
  {
   "cell_type": "code",
   "execution_count": 10,
   "metadata": {},
   "outputs": [
    {
     "name": "stdout",
     "output_type": "stream",
     "text": [
      "50\n",
      "53\n",
      "47\n",
      "44\n",
      "42\n"
     ]
    }
   ],
   "source": [
    "import numpy as np\n",
    "A = [1, 3, 5,6, 10, 40, 0, 44, 41, 2, 4, 50, 59, 7, 47, 60, 42, 53, 100, 99, 70]\n",
    "\n",
    "given_num = 50\n",
    "\n",
    "sorted(A)\n",
    "\n",
    "def num_nearest(list_A, num):\n",
    "    list_A = np.asarray(list_A)\n",
    "    diff =   np.abs(list_A - num)\n",
    "    arg = np.argsort(diff)\n",
    "    arg = arg[0:5]\n",
    "    for i in arg:\n",
    "       print(list_A[i])\n",
    "num_nearest(A, given_num )    "
   ]
  },
  {
   "cell_type": "code",
   "execution_count": 10,
   "metadata": {},
   "outputs": [
    {
     "name": "stdout",
     "output_type": "stream",
     "text": [
      "Collecting Pillow\n",
      "  Downloading Pillow-9.1.1-cp37-cp37m-win_amd64.whl (3.3 MB)\n",
      "Installing collected packages: Pillow\n",
      "Successfully installed Pillow-9.1.1\n"
     ]
    }
   ],
   "source": [
    "!pip install Pillow\n",
    "import numpy as np\n",
    "from PIL import Image\n",
    "a = np.random.randint(100, size=(100, 100), dtype = np.uint8)\n",
    "img = Image.fromarray(a)\n",
    "img.show()\n"
   ]
  },
  {
   "cell_type": "code",
   "execution_count": 14,
   "metadata": {},
   "outputs": [
    {
     "name": "stdout",
     "output_type": "stream",
     "text": [
      "* * * & & & & & * * *\n",
      "* * & * * * * * & * *\n",
      "* & * * * * * * * & *\n",
      "& * * * * * * * * * &\n",
      "& * * * * * * * * * &\n",
      "& * * * * * * * * * &\n",
      "& * * * * * * * * * &\n",
      "& * * * * * * * * * &\n",
      "* & * * * * * * * & *\n",
      "* * & * * * * * & * *\n",
      "* * * & & & & & * * *\n"
     ]
    }
   ],
   "source": [
    "w,h = 11, 11\n",
    "r = 5\n",
    "a,b = 5,5\n",
    "\n",
    "chart = [[\"*\" for x in range(w)] for y in range(h) ]\n",
    "\n",
    "for y in range(h):\n",
    "    for x in range(w):\n",
    "        if abs((x-a)**2 +(y-b)**2-r**2) < 2.2**2:\n",
    "            chart[y][x] = \"&\"\n",
    "\n",
    "for i in chart:\n",
    "     print(\" \".join(i))"
   ]
  },
  {
   "cell_type": "code",
   "execution_count": null,
   "metadata": {},
   "outputs": [],
   "source": [
    "az iot hub invoke-module-method -n IOTQLTDVLGENOBAWE01-iot-hub -d EDQLTDVLGENOBAWE01-qlt-edge-2 -m decision-maker --method-name 'add_team_instruction' --method-payload '{\"correlationId\": \"correlation_id\",\"params\": {\"version\": \"latest\",\"mouldId\": \"b9701u2\",\"bladeRevision\": \"b97-00\",\"bladeSn\": \"blade_sn_b9702u2_18\",\"layerId\":\"090_B97-00_LP_Outer_B1_1-288\",\"palletId\": \"pallet_2\"}}'\n"
   ]
  },
  {
   "cell_type": "code",
   "execution_count": 18,
   "metadata": {},
   "outputs": [
    {
     "data": {
      "text/plain": [
       "['', '', '', '', 'bbb', 'bcefgh']"
      ]
     },
     "execution_count": 18,
     "metadata": {},
     "output_type": "execute_result"
    }
   ],
   "source": [
    "str_a = \"aaaabbbabcefgh\"\n",
    "dic = { \"a\":0,\"b\":0, \"c\":0,\"e\":0, \"f\":0, \"g\":0,\"h\":0}\n",
    "\n",
    "for value in str_a:\n",
    "    dic[value] +=1    \n",
    "\n",
    "val=max(dic, key= dic.get)\n",
    "\n",
    "str_a.split(val)"
   ]
  },
  {
   "cell_type": "code",
   "execution_count": 69,
   "metadata": {},
   "outputs": [
    {
     "data": {
      "text/plain": [
       "'5a5b2c5a5b'"
      ]
     },
     "execution_count": 69,
     "metadata": {},
     "output_type": "execute_result"
    }
   ],
   "source": [
    "s = \"aaabbbccaabb\"\n",
    "output= \"3a3b2c2a2b\"\n",
    "\n",
    "\n",
    "# def count_cal(org, key, count, value_count, value):\n",
    "#     if org == key:\n",
    "#       #print(count)  \n",
    "#       print(\"value is\", s[count:value+1], value_count+1, count)\n",
    "#       count = count+1\n",
    "#       value_count = value_count+1\n",
    "    \n",
    "# count = 0\n",
    "# key = s[0]\n",
    "# value_count =0\n",
    "# for value in range(len(s)):\n",
    "#     if s[value] == key:\n",
    "#       #print(count)  \n",
    "#       print(\"value is\", s[count:value+1], value_count+1, count)\n",
    "#       count = count+1\n",
    "#       value_count = value_count+1\n",
    "    \n",
    "#     else:\n",
    "#         value_count = 0\n",
    "#         key = s[value]  \n",
    "#         print(\"key is updated\",key)\n",
    "\n",
    "from collections import Counter\n",
    "count_str = Counter(s)\n",
    "current_letter = \"\"\n",
    "output = \"\"\n",
    "for letter in s:\n",
    "  if current_letter == letter:\n",
    "       continue\n",
    "  else:\n",
    "    output = output + str(count_str[letter]) + letter\n",
    "    current_letter = letter\n",
    "output"
   ]
  },
  {
   "cell_type": "code",
   "execution_count": 35,
   "metadata": {},
   "outputs": [
    {
     "name": "stdout",
     "output_type": "stream",
     "text": [
      "2 5\n",
      "7 2\n",
      "10 3\n"
     ]
    }
   ],
   "source": [
    "s = 'TCAAAAACCABBBT'\n",
    "start = 0\n",
    "for i in range(1, len(s) + 1):\n",
    "    if (i==len(s) or s[i] != s[i-1]):\n",
    "        if (i - start > 1):\n",
    "            print(start, i - start)\n",
    "        start = i"
   ]
  },
  {
   "cell_type": "code",
   "execution_count": 38,
   "metadata": {},
   "outputs": [
    {
     "data": {
      "text/plain": [
       "[12]"
      ]
     },
     "execution_count": 38,
     "metadata": {},
     "output_type": "execute_result"
    }
   ],
   "source": [
    "import re\n",
    "my_str = \"aaabbbccaabb\"\n",
    "[len(z) for z in re.split(\"y+\", my_str)]"
   ]
  },
  {
   "cell_type": "code",
   "execution_count": 40,
   "metadata": {},
   "outputs": [
    {
     "data": {
      "text/plain": [
       "[('1', 3), ('0', 3), ('2', 3), ('3', 2), ('4', 2), ('5', 5)]"
      ]
     },
     "execution_count": 40,
     "metadata": {},
     "output_type": "execute_result"
    }
   ],
   "source": [
    "s = \"111000222334455555\"\n",
    "\n",
    "from itertools import groupby\n",
    "\n",
    "groups = groupby(s)\n",
    "result = [(label, sum(1 for _ in group)) for label, group in groups]\n",
    "result"
   ]
  },
  {
   "cell_type": "code",
   "execution_count": 60,
   "metadata": {},
   "outputs": [
    {
     "data": {
      "text/plain": [
       "[['bar', 'foo', 6.5], ['Boston', 'Rome', 5], ['aa', 'bb', 'cc', 'dd', '3']]"
      ]
     },
     "execution_count": 60,
     "metadata": {},
     "output_type": "execute_result"
    }
   ],
   "source": [
    "#Using list comprehensions get values which start with letter \"B\", ignore case\n",
    "\n",
    "text = [['bar','foo',6.5],['Boston','Rome',5], ['aa','bb','cc','dd','3']]\n",
    "\n",
    "#expected output: res = ['bar','Boston','bb']\n",
    "text"
   ]
  },
  {
   "cell_type": "code",
   "execution_count": 66,
   "metadata": {},
   "outputs": [
    {
     "name": "stdout",
     "output_type": "stream",
     "text": [
      "bar\n",
      "Boston\n",
      "bb\n"
     ]
    },
    {
     "data": {
      "text/plain": [
       "['bar', 'Boston', 'bb']"
      ]
     },
     "execution_count": 66,
     "metadata": {},
     "output_type": "execute_result"
    }
   ],
   "source": [
    "List_B =[]\n",
    "for i in text:\n",
    "    for j in i:\n",
    "        if type(j) is str and \"b\"in j.lower() :\n",
    "        #and j.lower() in \"b\":\n",
    "           List_B.append(j)\n",
    "           print(j)\n",
    "        #print()\n",
    "List_B        "
   ]
  },
  {
   "cell_type": "code",
   "execution_count": 56,
   "metadata": {},
   "outputs": [
    {
     "name": "stdout",
     "output_type": "stream",
     "text": [
      "Aasshhffaaqq\n"
     ]
    }
   ],
   "source": [
    "#Aasshhffaaqq\n",
    "\n",
    "str_out = []\n",
    "Input = \"Ashfaq\"\n",
    "for i in Input:\n",
    "    for j in i:\n",
    "        str_out.append(i)\n",
    "        str_out.append(j.lower())\n",
    "\n",
    "print(\"\".join(str_out))"
   ]
  },
  {
   "cell_type": "code",
   "execution_count": null,
   "metadata": {},
   "outputs": [],
   "source": [
    "\n",
    "let Source = Json.Document(Web.Contents(\"https://api.loganalytics.io/v1/workspaces/a05dd03a-d23f-44c6-8297-33f01c9d6c5b/query\",\n",
    "[Query=[#\"query\"=\"toolchainLogs_CL\n",
    "| extend log = parse_json(log_s)\n",
    "| where log.attrs.tag contains \"\"edge-detection\"\"\n",
    "| extend log_json = parse_json(tostring(log.log))\n",
    "| extend message = log_json.message\n",
    "| where isnotempty(message)\n",
    "| extend timestamp = log_json.asctime\n",
    "| order by TimeGenerated\n",
    "| take 5000\n",
    "| extend level = log_json.levelname\n",
    "| extend location=strcat(log_json.filename, \"\":\"\", log_json.lineno)\n",
    "| project timestamp, level, location, message, server=server_s, log_msg=log_json\n",
    "\",#\"x-ms-app\"=\"OmsAnalyticsPBI\",#\"timespan\"=\"P1D\",#\"prefer\"=\"ai.response-thinning=true\"],Timeout=#duration(0,0,4,0)])),\n",
    "TypeMap = #table(\n",
    "{ \"AnalyticsTypes\", \"Type\" },\n",
    "{\n",
    "{ \"string\", Text.Type },\n",
    "{ \"int\", Int32.Type },\n",
    "{ \"long\", Int64.Type },\n",
    "{ \"real\", Double.Type },\n",
    "{ \"timespan\", Duration.Type },\n",
    "{ \"datetime\", DateTimeZone.Type },\n",
    "{ \"bool\", Logical.Type },\n",
    "{ \"guid\", Text.Type },\n",
    "{ \"dynamic\", Text.Type }\n",
    "}),\n",
    "DataTable = Source[tables]{0},\n",
    "Columns = Table.FromRecords(DataTable[columns]),\n",
    "ColumnsWithType = Table.Join(Columns, {\"type\"}, TypeMap , {\"AnalyticsTypes\"}),\n",
    "Rows = Table.FromRows(DataTable[rows], Columns[name]),\n",
    "Table = Table.TransformColumnTypes(Rows, Table.ToList(ColumnsWithType, (c) => { c{0}, c{3}}))\n",
    "in\n",
    "Table\n",
    "\n"
   ]
  }
 ],
 "metadata": {
  "interpreter": {
   "hash": "780e223e49c598b4aa82d8318c6f1e6744c8b409488091a69e61e480bdf1c54b"
  },
  "kernelspec": {
   "display_name": "Python 3.8.3 64-bit ('base': conda)",
   "language": "python",
   "name": "python3"
  },
  "language_info": {
   "codemirror_mode": {
    "name": "ipython",
    "version": 3
   },
   "file_extension": ".py",
   "mimetype": "text/x-python",
   "name": "python",
   "nbconvert_exporter": "python",
   "pygments_lexer": "ipython3",
   "version": "3.7.0"
  },
  "orig_nbformat": 4
 },
 "nbformat": 4,
 "nbformat_minor": 2
}
